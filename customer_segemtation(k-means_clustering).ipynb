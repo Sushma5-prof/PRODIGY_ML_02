{
 "cells": [
  {
   "cell_type": "code",
   "execution_count": 12,
   "id": "c3d8589f-fc6e-4b61-9a0a-439b0154962f",
   "metadata": {},
   "outputs": [],
   "source": [
    "import os\n",
    "os.environ[\"OMP_NUM_THREADS\"] = \"1\""
   ]
  },
  {
   "cell_type": "code",
   "execution_count": 13,
   "id": "7bb710f8-2f63-4bc2-b4e7-58d0565509b7",
   "metadata": {},
   "outputs": [],
   "source": [
    "import numpy as np\n",
    "import pandas as pd\n",
    "from sklearn.preprocessing import StandardScaler, LabelEncoder\n",
    "from sklearn.cluster import KMeans\n",
    "from sklearn.metrics import silhouette_score\n",
    "import matplotlib.pyplot as plt\n",
    "import seaborn as sns"
   ]
  },
  {
   "cell_type": "code",
   "execution_count": 14,
   "id": "9f3d5eee-4c5d-43d1-8edd-97f50707e11b",
   "metadata": {},
   "outputs": [
    {
     "data": {
      "text/plain": [
       "Index(['CustomerID', 'Gender', 'Age', 'Annual Income (k$)',\n",
       "       'Spending Score (1-100)'],\n",
       "      dtype='object')"
      ]
     },
     "execution_count": 14,
     "metadata": {},
     "output_type": "execute_result"
    }
   ],
   "source": [
    "data = pd.read_csv('Mall_Customers.csv')\n",
    "data.columns"
   ]
  },
  {
   "cell_type": "code",
   "execution_count": 15,
   "id": "10fdc859-5b8f-4d38-a4c4-938fb6996100",
   "metadata": {},
   "outputs": [],
   "source": [
    "def kmeans_cluster(data, n_clusters=4, random_state=42):\n",
    "    features = data[['Gender','Age','Annual Income (k$)','Spending Score (1-100)']].copy()\n",
    "\n",
    "    # Encode gender\n",
    "    features['Gender'] = LabelEncoder().fit_transform(features['Gender'].astype(str))\n",
    "\n",
    "    # Drop rows with missing values\n",
    "    features = features.dropna()\n",
    "    data = data.loc[features.index].reset_index(drop=True)\n",
    "\n",
    "    # Scale\n",
    "    X = StandardScaler().fit_transform(features)\n",
    "\n",
    "    # Fit KMeans\n",
    "    kmeans = KMeans(n_clusters=n_clusters, random_state=random_state, n_init=10)\n",
    "    data['Cluster'] = kmeans.fit_predict(X)\n",
    "    return data, kmeans\n",
    "\n"
   ]
  },
  {
   "cell_type": "code",
   "execution_count": 16,
   "id": "32531f5f-e739-4b37-9380-3cd706e5e506",
   "metadata": {},
   "outputs": [],
   "source": [
    "df_clusters, kmeans_model = kmeans_cluster(data, n_clusters=5)"
   ]
  },
  {
   "cell_type": "code",
   "execution_count": 17,
   "id": "fa3c7f12-0d58-46b4-b088-f60471d3b0b2",
   "metadata": {},
   "outputs": [
    {
     "name": "stdout",
     "output_type": "stream",
     "text": [
      "   CustomerID  Gender  Age  Annual Income (k$)  Spending Score (1-100)  \\\n",
      "0           1    Male   19                  15                      39   \n",
      "1           2    Male   21                  15                      81   \n",
      "2           3  Female   20                  16                       6   \n",
      "3           4  Female   23                  16                      77   \n",
      "4           5  Female   31                  17                      40   \n",
      "\n",
      "   Cluster  \n",
      "0        3  \n",
      "1        3  \n",
      "2        3  \n",
      "3        3  \n",
      "4        3   KMeans(n_clusters=5, n_init=10, random_state=42)\n"
     ]
    }
   ],
   "source": [
    "print(df_clusters.head(), kmeans_model)"
   ]
  },
  {
   "cell_type": "code",
   "execution_count": 18,
   "id": "9f69d52e-b7a2-40b0-8ac1-2850fc9fdaaa",
   "metadata": {},
   "outputs": [
    {
     "name": "stdout",
     "output_type": "stream",
     "text": [
      "          Age                      Annual Income (k$)                        \\\n",
      "        count       mean       std              count       mean        std   \n",
      "Cluster                                                                       \n",
      "0          39  32.692308  3.728650                 39  86.538462  16.312485   \n",
      "1          29  36.482759  9.679214                 29  89.517241  17.418424   \n",
      "2          43  49.813953  9.474919                 43  49.232558  15.601949   \n",
      "3          54  24.907407  5.349197                 54  39.722222  16.981029   \n",
      "4          35  55.714286  9.596480                 35  53.685714  18.714215   \n",
      "\n",
      "        Spending Score (1-100)                        \n",
      "                         count       mean        std  \n",
      "Cluster                                               \n",
      "0                           39  82.128205   9.364489  \n",
      "1                           29  18.000000  10.579630  \n",
      "2                           43  40.069767  15.555424  \n",
      "3                           54  61.203704  18.420026  \n",
      "4                           35  36.771429  17.990334  \n"
     ]
    }
   ],
   "source": [
    "cluster_summary = df_clusters.groupby('Cluster')[['Age','Annual Income (k$)','Spending Score (1-100)']].agg(['count','mean','std'])\n",
    "print(cluster_summary)"
   ]
  }
 ],
 "metadata": {
  "kernelspec": {
   "display_name": "Python 3 (ipykernel)",
   "language": "python",
   "name": "python3"
  },
  "language_info": {
   "codemirror_mode": {
    "name": "ipython",
    "version": 3
   },
   "file_extension": ".py",
   "mimetype": "text/x-python",
   "name": "python",
   "nbconvert_exporter": "python",
   "pygments_lexer": "ipython3",
   "version": "3.13.5"
  }
 },
 "nbformat": 4,
 "nbformat_minor": 5
}
